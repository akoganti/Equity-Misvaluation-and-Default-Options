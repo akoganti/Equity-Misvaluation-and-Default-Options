{
 "metadata": {
  "language_info": {
   "codemirror_mode": {
    "name": "ipython",
    "version": 3
   },
   "file_extension": ".py",
   "mimetype": "text/x-python",
   "name": "python",
   "nbconvert_exporter": "python",
   "pygments_lexer": "ipython3",
   "version": "3.8.5-final"
  },
  "orig_nbformat": 2,
  "kernelspec": {
   "name": "Python 3.8.5 64-bit",
   "display_name": "Python 3.8.5 64-bit",
   "metadata": {
    "interpreter": {
     "hash": "3f5416aadc2cf0f263d1ded4c1433cebfac8cc1fca1a8bf76cd0977e5ffd07b4"
    }
   }
  }
 },
 "nbformat": 4,
 "nbformat_minor": 2,
 "cells": [
  {
   "cell_type": "code",
   "execution_count": 9,
   "metadata": {},
   "outputs": [],
   "source": [
    "import requests\n",
    "import io\n",
    "import gzip\n",
    "import pandas as pd\n",
    "import csv\n",
    "from bs4 import BeautifulSoup\n",
    "import lxml\n",
    "from collections import OrderedDict\n",
    "\n",
    "parent_dir_link = 'https://www.sec.gov/Archives/edgar/full-index/'\n",
    "archive_link = 'https://www.sec.gov/Archives/'\n",
    "begYear = 2020\n",
    "json = 'index.json'\n",
    "xbrl = 'xbrl.gz'"
   ]
  },
  {
   "cell_type": "code",
   "execution_count": 10,
   "metadata": {},
   "outputs": [],
   "source": [
    "#Getting links for each year directory\n",
    "parent_dir = requests.get(parent_dir_link+json)\n",
    "year_dirs = parent_dir.json()['directory']['item']\n",
    "year_dir_links = []\n",
    "for child_elem in year_dirs:\n",
    "    if child_elem['type']=='dir':\n",
    "        if int(child_elem['name'])>=begYear:\n",
    "            year_dir_links.append(parent_dir_link+child_elem['name'])"
   ]
  },
  {
   "cell_type": "code",
   "execution_count": 11,
   "metadata": {},
   "outputs": [],
   "source": [
    "#Getting links for each quarter directory for each year director\n",
    "quarterly_dir_links = []\n",
    "for year in year_dir_links:\n",
    "    year_dir = requests.get(year +'/'+json).json()['directory']['item']\n",
    "    for quarter in year_dir:\n",
    "        quarterly_dir_links.append(year+'/'+quarter['name'])"
   ]
  },
  {
   "cell_type": "code",
   "execution_count": 12,
   "metadata": {
    "tags": []
   },
   "outputs": [],
   "source": [
    "#Getting links to all fillings made with xbrl format in each quarter\n",
    "xbrl_dir_links = []\n",
    "for link in quarterly_dir_links:\n",
    "    file = str(gzip.GzipFile(fileobj=io.BytesIO(requests.get(link +'/'+xbrl).content)).read()).replace(\"\\\\n\",\"\\n\").replace('\"','')\n",
    "    xbrl_dir_links.append(file[file.rfind(\"--\")+3:])"
   ]
  },
  {
   "cell_type": "code",
   "execution_count": 13,
   "metadata": {},
   "outputs": [
    {
     "output_type": "execute_result",
     "data": {
      "text/plain": [
       "         CIK                    Company Name Form Type  Date Filed  \\\n",
       "0    1000045          NICHOLAS FINANCIAL INC      10-Q  2020-02-14   \n",
       "1    1000209        MEDALLION FINANCIAL CORP      10-K  2020-03-30   \n",
       "2    1000228                HENRY SCHEIN INC      10-K  2020-02-20   \n",
       "3    1000229           CORE LABORATORIES N V      10-K  2020-02-10   \n",
       "4    1000230              OPTICAL CABLE CORP      10-K  2020-01-27   \n",
       "..       ...                             ...       ...         ...   \n",
       "501    96223  Jefferies Financial Group Inc.      10-Q  2020-10-09   \n",
       "502    97476           TEXAS INSTRUMENTS INC      10-Q  2020-10-21   \n",
       "503    98338                         TSR INC      10-Q  2020-10-13   \n",
       "504    99780          TRINITY INDUSTRIES INC      10-Q  2020-10-26   \n",
       "505     9984                BARNES GROUP INC      10-Q  2020-10-26   \n",
       "\n",
       "                                        Filename  \n",
       "0    edgar/data/1000045/0001564590-20-004703.txt  \n",
       "1    edgar/data/1000209/0001564590-20-014310.txt  \n",
       "2    edgar/data/1000228/0001000228-20-000018.txt  \n",
       "3    edgar/data/1000229/0001564590-20-004075.txt  \n",
       "4    edgar/data/1000230/0001437749-20-001224.txt  \n",
       "..                                           ...  \n",
       "501    edgar/data/96223/0000096223-20-000050.txt  \n",
       "502    edgar/data/97476/0001628280-20-014630.txt  \n",
       "503    edgar/data/98338/0001213900-20-031097.txt  \n",
       "504    edgar/data/99780/0000099780-20-000136.txt  \n",
       "505     edgar/data/9984/0000009984-20-000115.txt  \n",
       "\n",
       "[18395 rows x 5 columns]"
      ],
      "text/html": "<div>\n<style scoped>\n    .dataframe tbody tr th:only-of-type {\n        vertical-align: middle;\n    }\n\n    .dataframe tbody tr th {\n        vertical-align: top;\n    }\n\n    .dataframe thead th {\n        text-align: right;\n    }\n</style>\n<table border=\"1\" class=\"dataframe\">\n  <thead>\n    <tr style=\"text-align: right;\">\n      <th></th>\n      <th>CIK</th>\n      <th>Company Name</th>\n      <th>Form Type</th>\n      <th>Date Filed</th>\n      <th>Filename</th>\n    </tr>\n  </thead>\n  <tbody>\n    <tr>\n      <th>0</th>\n      <td>1000045</td>\n      <td>NICHOLAS FINANCIAL INC</td>\n      <td>10-Q</td>\n      <td>2020-02-14</td>\n      <td>edgar/data/1000045/0001564590-20-004703.txt</td>\n    </tr>\n    <tr>\n      <th>1</th>\n      <td>1000209</td>\n      <td>MEDALLION FINANCIAL CORP</td>\n      <td>10-K</td>\n      <td>2020-03-30</td>\n      <td>edgar/data/1000209/0001564590-20-014310.txt</td>\n    </tr>\n    <tr>\n      <th>2</th>\n      <td>1000228</td>\n      <td>HENRY SCHEIN INC</td>\n      <td>10-K</td>\n      <td>2020-02-20</td>\n      <td>edgar/data/1000228/0001000228-20-000018.txt</td>\n    </tr>\n    <tr>\n      <th>3</th>\n      <td>1000229</td>\n      <td>CORE LABORATORIES N V</td>\n      <td>10-K</td>\n      <td>2020-02-10</td>\n      <td>edgar/data/1000229/0001564590-20-004075.txt</td>\n    </tr>\n    <tr>\n      <th>4</th>\n      <td>1000230</td>\n      <td>OPTICAL CABLE CORP</td>\n      <td>10-K</td>\n      <td>2020-01-27</td>\n      <td>edgar/data/1000230/0001437749-20-001224.txt</td>\n    </tr>\n    <tr>\n      <th>...</th>\n      <td>...</td>\n      <td>...</td>\n      <td>...</td>\n      <td>...</td>\n      <td>...</td>\n    </tr>\n    <tr>\n      <th>501</th>\n      <td>96223</td>\n      <td>Jefferies Financial Group Inc.</td>\n      <td>10-Q</td>\n      <td>2020-10-09</td>\n      <td>edgar/data/96223/0000096223-20-000050.txt</td>\n    </tr>\n    <tr>\n      <th>502</th>\n      <td>97476</td>\n      <td>TEXAS INSTRUMENTS INC</td>\n      <td>10-Q</td>\n      <td>2020-10-21</td>\n      <td>edgar/data/97476/0001628280-20-014630.txt</td>\n    </tr>\n    <tr>\n      <th>503</th>\n      <td>98338</td>\n      <td>TSR INC</td>\n      <td>10-Q</td>\n      <td>2020-10-13</td>\n      <td>edgar/data/98338/0001213900-20-031097.txt</td>\n    </tr>\n    <tr>\n      <th>504</th>\n      <td>99780</td>\n      <td>TRINITY INDUSTRIES INC</td>\n      <td>10-Q</td>\n      <td>2020-10-26</td>\n      <td>edgar/data/99780/0000099780-20-000136.txt</td>\n    </tr>\n    <tr>\n      <th>505</th>\n      <td>9984</td>\n      <td>BARNES GROUP INC</td>\n      <td>10-Q</td>\n      <td>2020-10-26</td>\n      <td>edgar/data/9984/0000009984-20-000115.txt</td>\n    </tr>\n  </tbody>\n</table>\n<p>18395 rows × 5 columns</p>\n</div>"
     },
     "metadata": {},
     "execution_count": 13
    }
   ],
   "source": [
    "df0 = pd.DataFrame(columns=['CIK','Company Name','Form Type','Date Filed','Filename'])\n",
    "\n",
    "for link in xbrl_dir_links:\n",
    "    df = pd.read_csv(io.StringIO(link),sep=\"|\",names=['CIK','Company Name','Form Type','Date Filed','Filename'])\n",
    "    df2 = df[df['Form Type'].str.contains('10-K') | df['Form Type'].str.contains('10-Q')].reset_index(drop=True)\n",
    "    df0 = df0.append(df2)\n",
    "df4 = df0\n",
    "df0"
   ]
  },
  {
   "cell_type": "code",
   "execution_count": 17,
   "metadata": {},
   "outputs": [],
   "source": [
    "# Working with sandisk case first before looping \n",
    "i = 0\n",
    "for index,row in df0.iterrows():\n",
    "    CIK = row['CIK']\n",
    "    CompanyName = row['Company Name']\n",
    "    FormType = row['Form Type']\n",
    "    DateFiled = row['Date Filed']\n",
    "    Filename = row['Filename']\n",
    "    sandisk_filing = archive_link+Filename.replace('-','').replace('.txt','')+'/'+json\n",
    "    for file in requests.get(sandisk_filing).json()['directory']['item']:\n",
    "        if file['name']== 'FilingSummary.xml':\n",
    "            xml_summary = archive_link+Filename.replace('-','').replace('.txt','')+'/'+file['name']\n",
    "    xml_summary\n",
    "\n",
    "    content = requests.get(xml_summary).content\n",
    "    soup = BeautifulSoup(content,'lxml')\n",
    "    reports = soup.find('myreports').find_all('report')\n",
    "\n",
    "    financial_statement_names = ['consolidated balance sheets','balance sheet','condensed consolidated balance sheets','consolidated statements of financial condition']\n",
    "\n",
    "    financial_statement_links = []\n",
    "    for report in reports:\n",
    "        if report.shortname.text.lower() in financial_statement_names:\n",
    "            financial_statement_links.append(archive_link+Filename.replace('-','').replace('.txt','')+'/'+report.htmlfilename.text)\n",
    "    if financial_statement_links:\n",
    "        bs_link = financial_statement_links[0]\n",
    "        bs_link\n",
    "\n",
    "        content = requests.get(bs_link).content\n",
    "        soup = BeautifulSoup(content)\n",
    "        data = OrderedDict()\n",
    "        found_header = False\n",
    "        years = []\n",
    "        filing_labels = []\n",
    "        gaap_label = ''\n",
    "        table = soup.find('table')\n",
    "        for row in table.find_all('tr'):\n",
    "            if not found_header:\n",
    "                found_title = False\n",
    "                for header in row.find_all('th'):\n",
    "                    if not found_title:\n",
    "                        title = header.text.replace('\\n','')\n",
    "                        found_title = True\n",
    "                        continue\n",
    "                    years.append(header.text.replace('\\n',''))\n",
    "                found_header = True\n",
    "                continue\n",
    "            data['Date'] = years\n",
    "            values = []\n",
    "            found_filing_label = False\n",
    "            for col in row.find_all('td'):\n",
    "                if not found_filing_label:\n",
    "                    found_filing_label = True\n",
    "                    continue\n",
    "                value = ''\n",
    "                if col.find('a'):\n",
    "                    gaap_label = col.find('span').text.replace('us-gaap_','')\n",
    "                    value = col.find('a').text\n",
    "                values.append(value)\n",
    "                data[gaap_label] = values\n",
    "        try:\n",
    "            df3 = pd.DataFrame.from_dict(data)\n",
    "        except ValueError:\n",
    "            continue\n",
    "            pass\n",
    "        df3['CIK'] = CIK\n",
    "        df3['Company Name'] = CompanyName\n",
    "        df3['Form Type'] = FormType\n",
    "        df3['Date Filed'] = DateFiled\n",
    "        df4 = pd.merge(df4,df3,how='outer')\n",
    "    i+=1\n",
    "    if i%10 == 0:\n",
    "        break"
   ]
  },
  {
   "cell_type": "code",
   "execution_count": null,
   "metadata": {},
   "outputs": [],
   "source": []
  }
 ]
}